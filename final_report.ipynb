{
 "cells": [
  {
   "cell_type": "markdown",
   "id": "8d8e3d7b-defe-498c-9cd4-b9079a17cb34",
   "metadata": {},
   "source": [
    "# Final Project Report\n",
    "##### *Cynthia Wang, Luke Angelo Santiago, Tim Generalov, Sarah Porcheron*"
   ]
  },
  {
   "cell_type": "markdown",
   "id": "7e5be0f2-bdf8-4235-be22-66fdb4295a39",
   "metadata": {},
   "source": [
    "## Introduction"
   ]
  },
  {
   "cell_type": "markdown",
   "id": "3285da20-60c5-4d45-b12d-99adf4cfc459",
   "metadata": {
    "vscode": {
     "languageId": "r"
    }
   },
   "source": [
    "In the realm of video game analytics, understanding player behavior is crucial for enhancing user engagement and optimizing marketing strategies. For this analysis, we focus specifically on the Minecraft research project, tailoring our findings to provide actionable insights for this initiative. Our goal is to identify **which \"kinds\" of players are most likely to contribute significant amounts of data**, enabling the project to target these players in future recruiting efforts effectively.\n",
    "\n",
    "To address this question, we utilized the player dataset, which includes various characteristics and metrics related to Minecraft players. This dataset serves as the foundation for exploring trends, behaviors, and contributions of players. By examining this information, we aim to deliver targeted recommendations for the Minecraft research project, ensuring that our analysis is highly relevant and actionable for their specific needs.\n",
    "\n",
    "\n",
    "\n",
    "#### Dataset Description\n",
    "\n",
    "The analysis is mainly based on the following dataset:\n",
    "\n",
    " **Players Dataset (`players.csv`):** This dataset contains demographic and player profile information, such as age, gender, geographical location, and in-game roles or preferences.\n",
    "\n",
    "\n",
    "By utilizing the player dataset, we aim to establish a comprehensive profile of highly engaged players. The datasets were meticulously prepared to ensure no missing values or inconsistencies that could bias the results. The Players dataset provides demographic attributes, offering a well-rounded foundation for analysis.\n",
    "\n",
    "#### Goal of the Analysis\n",
    "\n",
    "The primary goal is to identify which player characteristics correlate with the amount of gameplay data contributed. For instance:\n",
    "- Are younger players more engaged than older ones?\n",
    "- Do players with certain in-game roles or preferences exhibit higher activity levels?\n",
    "- How do session durations and frequencies relate to demographic factors?\n",
    "\n",
    "The findings of this analysis will provide actionable insights for recruiting and engaging with high-value players, ultimately supporting the strategic goals of player retention and monetization.\n",
    "\n"
   ]
  },
  {
   "cell_type": "markdown",
   "id": "6f38c80c-d827-4b50-9fe9-2859fb3e61d0",
   "metadata": {},
   "source": [
    "## Methods"
   ]
  },
  {
   "cell_type": "markdown",
   "id": "503a7021-62bf-4310-acb3-a50d76a7189e",
   "metadata": {
    "vscode": {
     "languageId": "r"
    }
   },
   "source": [
    "Intro: We need to indentify the types of players that are most likely to contribute significant amounts of game data, to start this we will - \n",
    "\n",
    "1. Load all data \n",
    "- Load using read.csv (since data is comma seperated), and to make this process reproducible on all devices we will load the data from a url (original data is from a google drive link)\n",
    "\n",
    "2. Preprocess data\n",
    "- Columns such as \"experience\" and \"gender\" need to be converted into factor types to make sure they are treated as categorical variables for analysis\n",
    "- Columns that we don't need to answer our question such as \"hashedEmail\" (empty), \"individualId\" (empty), \"organizationName\" (empty), \"subscribe\" (not needed), and \"name\" (not needed) will be removed.\n",
    "- Double check columns: \"experience\" (categorical), \"played_hours\" (numeric), \"gender\" (categorical) and \"age\" (numeric) should all be present in the data set as we need them for our analysis\n",
    "\n",
    "3. Exploratory data analysis\n",
    "- Use group_by and summarize to sort the number of players by experience level as wel as gender\n",
    "- Plot this information using geom_histogram to show the number of hours played across experience, seperated by gender to see if it also contributes to the number of hours played\n",
    "- Filter age below 51 to focus on the majority demographic of users, calculate average hours played for each age and experience combination, and create a geom_bar plot with a facet grid based on experience to show any trends in hours played across age groups\n",
    "- Summarize counts by gender and experience, and visualize using geom_bar with position = \"fill\" to show gender makeup of each experience group\n",
    "- Use geom_histogram to visualize overall distribution of played hours\n",
    "\n",
    "4. Do predictive modeling: regression on played hours\n",
    "- Split the dataset into training (70%) and testing (30%) using initial_split and stratified by played_hours to have a proportional distribution across splits\n",
    "- Create a recipe using the recipe function, and specify played_hours as the response variable and all other columns as predictors\n",
    "- Use k-Nearest Neighbors algorithm for regression with nearest_neighbors function. We use this algorithm because of its ability to capture non-linear patterns, handle different data types and make predictions based on similar players \n",
    "- Perform 15 fold cross validation to evaluate the performance as best as possible and avoid any possible outlier splits\n",
    "- Tune the number of neighbors using grid search with values ranging from 1 to 100 in order to balance out overfitting and underfitting\n",
    "- Select optimal k number of neighbors based on root mean square error (RMSE) to have the best prediction accuracy\n",
    "- Re-train the k-NN model using optimal k value and evaluate performance on the test set by getting RMSE for predictions\n",
    "\n",
    "5. Visualize results\n",
    "- Plot relationship betwen k number of neighbors and RMSE to visualize the tunning process (optimal k value minimized RMSE)\n",
    "- Combine key visualization into grids using plot_grid to visualize all variables and their effect on played_hours: Hours played by experience and gender plot, age trends in hours played, and gender makeup in experience groups\n",
    "\n",
    "Taking a look at the final visualization plot grid will show how age, gender, experience level will affect the amount of time a user spends on the game, at which point we will be able to draw conclusions from the data and answer our question."
   ]
  },
  {
   "cell_type": "markdown",
   "id": "e391833f-e089-4f42-b05f-d40f8aafb07c",
   "metadata": {},
   "source": [
    "## Results"
   ]
  },
  {
   "cell_type": "code",
   "execution_count": 2,
   "id": "a005c264-13dc-41ec-9905-e3bd323e9b35",
   "metadata": {},
   "outputs": [
    {
     "name": "stderr",
     "output_type": "stream",
     "text": [
      "Installing package into 'C:/Users/lukes/AppData/Local/R/win-library/4.4'\n",
      "(as 'lib' is unspecified)\n",
      "\n"
     ]
    },
    {
     "name": "stdout",
     "output_type": "stream",
     "text": [
      "package 'GGally' successfully unpacked and MD5 sums checked\n",
      "\n",
      "The downloaded binary packages are in\n",
      "\tC:\\Users\\lukes\\AppData\\Local\\Temp\\RtmpK0wokx\\downloaded_packages\n"
     ]
    }
   ],
   "source": [
    "install.packages(\"GGally\")"
   ]
  },
  {
   "cell_type": "code",
   "execution_count": 3,
   "id": "a5d821da-d9bf-417b-8dfe-6ebcd0e7a2c6",
   "metadata": {
    "vscode": {
     "languageId": "r"
    }
   },
   "outputs": [
    {
     "name": "stderr",
     "output_type": "stream",
     "text": [
      "Warning message:\n",
      "\"package 'forcats' was built under R version 4.4.2\"\n",
      "── \u001b[1mAttaching core tidyverse packages\u001b[22m ──────────────────────── tidyverse 2.0.0 ──\n",
      "\u001b[32m✔\u001b[39m \u001b[34mdplyr    \u001b[39m 1.1.4     \u001b[32m✔\u001b[39m \u001b[34mreadr    \u001b[39m 2.1.5\n",
      "\u001b[32m✔\u001b[39m \u001b[34mforcats  \u001b[39m 1.0.0     \u001b[32m✔\u001b[39m \u001b[34mstringr  \u001b[39m 1.5.1\n",
      "\u001b[32m✔\u001b[39m \u001b[34mggplot2  \u001b[39m 3.5.1     \u001b[32m✔\u001b[39m \u001b[34mtibble   \u001b[39m 3.2.1\n",
      "\u001b[32m✔\u001b[39m \u001b[34mlubridate\u001b[39m 1.9.3     \u001b[32m✔\u001b[39m \u001b[34mtidyr    \u001b[39m 1.3.1\n",
      "\u001b[32m✔\u001b[39m \u001b[34mpurrr    \u001b[39m 1.0.2     \n",
      "── \u001b[1mConflicts\u001b[22m ────────────────────────────────────────── tidyverse_conflicts() ──\n",
      "\u001b[31m✖\u001b[39m \u001b[34mdplyr\u001b[39m::\u001b[32mfilter()\u001b[39m masks \u001b[34mstats\u001b[39m::filter()\n",
      "\u001b[31m✖\u001b[39m \u001b[34mdplyr\u001b[39m::\u001b[32mlag()\u001b[39m    masks \u001b[34mstats\u001b[39m::lag()\n",
      "\u001b[36mℹ\u001b[39m Use the conflicted package (\u001b[3m\u001b[34m<http://conflicted.r-lib.org/>\u001b[39m\u001b[23m) to force all conflicts to become errors\n",
      "Warning message:\n",
      "\"package 'GGally' was built under R version 4.4.2\"\n",
      "Registered S3 method overwritten by 'GGally':\n",
      "  method from   \n",
      "  +.gg   ggplot2\n",
      "\n",
      "── \u001b[1mAttaching packages\u001b[22m ────────────────────────────────────── tidymodels 1.2.0 ──\n",
      "\n",
      "\u001b[32m✔\u001b[39m \u001b[34mbroom       \u001b[39m 1.0.7     \u001b[32m✔\u001b[39m \u001b[34mrsample     \u001b[39m 1.2.1\n",
      "\u001b[32m✔\u001b[39m \u001b[34mdials       \u001b[39m 1.3.0     \u001b[32m✔\u001b[39m \u001b[34mtune        \u001b[39m 1.2.1\n",
      "\u001b[32m✔\u001b[39m \u001b[34minfer       \u001b[39m 1.0.7     \u001b[32m✔\u001b[39m \u001b[34mworkflows   \u001b[39m 1.1.4\n",
      "\u001b[32m✔\u001b[39m \u001b[34mmodeldata   \u001b[39m 1.4.0     \u001b[32m✔\u001b[39m \u001b[34mworkflowsets\u001b[39m 1.1.0\n",
      "\u001b[32m✔\u001b[39m \u001b[34mparsnip     \u001b[39m 1.2.1     \u001b[32m✔\u001b[39m \u001b[34myardstick   \u001b[39m 1.3.1\n",
      "\u001b[32m✔\u001b[39m \u001b[34mrecipes     \u001b[39m 1.1.0     \n",
      "\n",
      "Warning message:\n",
      "\"package 'infer' was built under R version 4.4.2\"\n",
      "── \u001b[1mConflicts\u001b[22m ───────────────────────────────────────── tidymodels_conflicts() ──\n",
      "\u001b[31m✖\u001b[39m \u001b[34mscales\u001b[39m::\u001b[32mdiscard()\u001b[39m masks \u001b[34mpurrr\u001b[39m::discard()\n",
      "\u001b[31m✖\u001b[39m \u001b[34mdplyr\u001b[39m::\u001b[32mfilter()\u001b[39m   masks \u001b[34mstats\u001b[39m::filter()\n",
      "\u001b[31m✖\u001b[39m \u001b[34mrecipes\u001b[39m::\u001b[32mfixed()\u001b[39m  masks \u001b[34mstringr\u001b[39m::fixed()\n",
      "\u001b[31m✖\u001b[39m \u001b[34mdplyr\u001b[39m::\u001b[32mlag()\u001b[39m      masks \u001b[34mstats\u001b[39m::lag()\n",
      "\u001b[31m✖\u001b[39m \u001b[34myardstick\u001b[39m::\u001b[32mspec()\u001b[39m masks \u001b[34mreadr\u001b[39m::spec()\n",
      "\u001b[31m✖\u001b[39m \u001b[34mrecipes\u001b[39m::\u001b[32mstep()\u001b[39m   masks \u001b[34mstats\u001b[39m::step()\n",
      "\u001b[34m•\u001b[39m Use \u001b[32mtidymodels_prefer()\u001b[39m to resolve common conflicts.\n",
      "\n",
      "\n",
      "Attaching package: 'cowplot'\n",
      "\n",
      "\n",
      "The following object is masked from 'package:lubridate':\n",
      "\n",
      "    stamp\n",
      "\n",
      "\n"
     ]
    }
   ],
   "source": [
    "### Run this cell before continuing.\n",
    "library(tidyverse)\n",
    "library(repr)\n",
    "library(GGally)\n",
    "library(tidymodels)\n",
    "library(cowplot)\n",
    "library(RColorBrewer)\n",
    "options(repr.matrix.max.rows = 6)"
   ]
  },
  {
   "cell_type": "markdown",
   "id": "2f31488e-9e77-427c-80f8-87d0f6885a54",
   "metadata": {},
   "source": [
    "### Code"
   ]
  },
  {
   "cell_type": "code",
   "execution_count": 4,
   "id": "7ab10e2b-0323-42e0-bbc1-211725700f14",
   "metadata": {
    "vscode": {
     "languageId": "r"
    }
   },
   "outputs": [
    {
     "name": "stderr",
     "output_type": "stream",
     "text": [
      "\u001b[1mRows: \u001b[22m\u001b[34m196\u001b[39m \u001b[1mColumns: \u001b[22m\u001b[34m9\u001b[39m\n",
      "\u001b[36m──\u001b[39m \u001b[1mColumn specification\u001b[22m \u001b[36m────────────────────────────────────────────────────────\u001b[39m\n",
      "\u001b[1mDelimiter:\u001b[22m \",\"\n",
      "\u001b[31mchr\u001b[39m (4): experience, hashedEmail, name, gender\n",
      "\u001b[32mdbl\u001b[39m (2): played_hours, age\n",
      "\u001b[33mlgl\u001b[39m (3): subscribe, individualId, organizationName\n",
      "\n",
      "\u001b[36mℹ\u001b[39m Use `spec()` to retrieve the full column specification for this data.\n",
      "\u001b[36mℹ\u001b[39m Specify the column types or set `show_col_types = FALSE` to quiet this message.\n"
     ]
    }
   ],
   "source": [
    "url <- \"https://drive.google.com/uc?export=download&id=1Mw9vW0hjTJwRWx0bDXiSpYsO3gKogaPz\"\n",
    "\n",
    "players <- \n",
    "    read_csv(url) |>\n",
    "    # read_csv(\"data/players.csv\") |>\n",
    "    # experience and gender changed to factor type in order to be treated as category\n",
    "    mutate(experience = as.factor(experience),\n",
    "           gender = as.factor(gender)) |>\n",
    "\n",
    "    # removed hashedEmail, individualId, and organizationName because they have no information\n",
    "    # removed subscribe and name because they have no useful information about the type of user\n",
    "    select(experience, played_hours, gender, age)"
   ]
  },
  {
   "cell_type": "markdown",
   "id": "682c9536-fb37-4781-956d-f8c49374e5d8",
   "metadata": {},
   "source": [
    "#### Explatory Code"
   ]
  },
  {
   "cell_type": "code",
   "execution_count": 5,
   "id": "1bee7736-0811-46e7-86f3-13ae82da7807",
   "metadata": {
    "vscode": {
     "languageId": "r"
    }
   },
   "outputs": [],
   "source": [
    "# number of players in each experience level\n",
    "num_players_by_exp <- players |>\n",
    "    group_by(experience) |>\n",
    "    summarize(count = n()) |>\n",
    "    arrange(count)"
   ]
  },
  {
   "cell_type": "code",
   "execution_count": 6,
   "id": "68c84c97-011a-4358-9486-605b66395541",
   "metadata": {
    "vscode": {
     "languageId": "r"
    }
   },
   "outputs": [],
   "source": [
    "# number of players from a certain gender\n",
    "num_players_by_gender <- players |>\n",
    "    group_by(gender) |>\n",
    "    summarize(count = n()) |>\n",
    "    arrange(count)"
   ]
  },
  {
   "cell_type": "code",
   "execution_count": 7,
   "id": "06f28547-a39d-49f1-972c-4d5541b4c9ac",
   "metadata": {
    "vscode": {
     "languageId": "r"
    }
   },
   "outputs": [
    {
     "name": "stderr",
     "output_type": "stream",
     "text": [
      "Warning message in geom_histogram(stat = \"identity\", position = \"dodge\"):\n",
      "\"\u001b[1m\u001b[22mIgnoring unknown parameters: `binwidth`, `bins`, and `pad`\"\n"
     ]
    }
   ],
   "source": [
    "# hours contributed by experience level and gender\n",
    "experience_vs_hours <- players |>\n",
    "    ggplot(aes(x = experience, y = played_hours, fill = gender)) +\n",
    "    geom_histogram(stat = \"identity\", position = \"dodge\") +\n",
    "    labs(x = \"Experience\",\n",
    "         y = \"# of hours played\",\n",
    "         title = \"Hours Contribution by Experience and Gender\") +\n",
    "    theme(text = element_text(size = 15)) +\n",
    "    scale_fill_brewer(palette = 'Set2')"
   ]
  },
  {
   "cell_type": "code",
   "execution_count": 8,
   "id": "dbdf2cd6-2473-4b90-9466-977c51683059",
   "metadata": {
    "vscode": {
     "languageId": "r"
    }
   },
   "outputs": [
    {
     "name": "stderr",
     "output_type": "stream",
     "text": [
      "\u001b[1m\u001b[22m`summarise()` has grouped output by 'age'. You can override using the `.groups`\n",
      "argument.\n"
     ]
    }
   ],
   "source": [
    "# each experience level group's mean hours based on age\n",
    "players_bar <- players |>\n",
    "    filter(age < 51) |>\n",
    "    group_by(age, experience) |>\n",
    "    summarize(avg_played_hours = mean(played_hours)) |>\n",
    "    ggplot(aes(x = age, y = avg_played_hours, fill = experience)) +\n",
    "    geom_bar(stat = \"identity\") +\n",
    "    facet_grid(rows = vars(experience)) +\n",
    "    labs(x = \"Age\",\n",
    "         y = \"Average hours played\",\n",
    "         fill = \"Experience level\",\n",
    "         title = \"Mean Playing Hours Compared to Age and Experience\") +\n",
    "    theme(text = element_text(size = 15)) +\n",
    "    scale_fill_brewer(palette = 'Paired')"
   ]
  },
  {
   "cell_type": "code",
   "execution_count": 9,
   "id": "f234c7e9-a73d-44e3-af35-2d239b1f3d32",
   "metadata": {
    "vscode": {
     "languageId": "r"
    }
   },
   "outputs": [],
   "source": [
    "# distribution of played hours\n",
    "played_hours <- ggplot(players, aes(x = played_hours)) +\n",
    "  geom_histogram(binwidth = 5, fill = \"steelblue\", color = \"black\") +\n",
    "  labs(title = \"Distribution of Total Played Hours\",\n",
    "       x = \"Total Played Hours\",\n",
    "       y = \"Number of Players\") +\n",
    "  theme(text = element_text(size = 15))\n"
   ]
  },
  {
   "cell_type": "code",
   "execution_count": 10,
   "id": "7fdf739c-3ef5-4563-8ff3-81253094e1ca",
   "metadata": {
    "vscode": {
     "languageId": "r"
    }
   },
   "outputs": [
    {
     "name": "stderr",
     "output_type": "stream",
     "text": [
      "\u001b[1m\u001b[22m`summarise()` has grouped output by 'gender'. You can override using the\n",
      "`.groups` argument.\n"
     ]
    }
   ],
   "source": [
    "# graph comparing the gender make-up in each experience level group\n",
    "gender_makeup <- players |>\n",
    "    group_by(gender, experience) |>\n",
    "    summarize(count = n()) |>\n",
    "    ggplot(aes(x = count, y = experience, fill = gender)) +\n",
    "    geom_bar(stat = \"identity\", position = \"fill\") +\n",
    "    labs(x = \"Gender make-up (%)\",\n",
    "         y = \"Experience\",\n",
    "         title = \"Gender Make-up of Experience Level Groups\") +\n",
    "    theme(text = element_text(size = 15)) +\n",
    "    scale_fill_brewer(palette = 'Set2')"
   ]
  },
  {
   "cell_type": "markdown",
   "id": "b356a73a-ef84-4d3c-83e7-244735dd2296",
   "metadata": {},
   "source": [
    "#### Classification Model Code"
   ]
  },
  {
   "cell_type": "code",
   "execution_count": 11,
   "id": "b5d83be1-022c-4546-8d6f-437a6ed310d0",
   "metadata": {
    "vscode": {
     "languageId": "r"
    }
   },
   "outputs": [],
   "source": [
    "set.seed(170) # DO NOT REMOVE\n",
    "\n",
    "# splitting the data \n",
    "players_split <- initial_split(players, prop = 0.7, strata = played_hours)\n",
    "players_train <- training(players_split) # 136 observations\n",
    "players_test <- testing(players_split) # 60 observations"
   ]
  },
  {
   "cell_type": "code",
   "execution_count": 12,
   "id": "583290bf-87c0-4b2f-86f3-426531742f87",
   "metadata": {
    "vscode": {
     "languageId": "r"
    }
   },
   "outputs": [],
   "source": [
    "set.seed(6330) # DO NOT REMOVE\n",
    "\n",
    "# training the data\n",
    "players_recipe <- recipe(played_hours ~ ., data = players)\n",
    "\n",
    "players_spec <- nearest_neighbor(weight_func = \"rectangular\",\n",
    "                                 neighbors = tune()) |>\n",
    "    set_engine(\"kknn\") |>\n",
    "    set_mode(\"regression\")\n",
    "\n",
    "players_vfold <- vfold_cv(players_train, v = 15, strata = played_hours)\n",
    "\n",
    "players_workflow <- workflow() |>\n",
    "    add_recipe(players_recipe) |>\n",
    "    add_model(players_spec)\n",
    "\n",
    "gridvals <- tibble(neighbors = seq(from = 1, to = 100, by = 1)) \n",
    "\n",
    "players_results <- players_workflow |>\n",
    "    tune_grid(resamples = players_vfold, grid = gridvals) |>\n",
    "    collect_metrics() |>\n",
    "    filter(.metric == \"rmse\")\n",
    "\n",
    "kmin <- players_results |>\n",
    "    filter(mean == min(mean)) |>\n",
    "    pull(neighbors)"
   ]
  },
  {
   "cell_type": "code",
   "execution_count": 13,
   "id": "ea7d0a26-8bd1-4a23-8aea-2519d0accdc8",
   "metadata": {
    "vscode": {
     "languageId": "r"
    }
   },
   "outputs": [],
   "source": [
    "# testing the data\n",
    "players_spec <- nearest_neighbor(weight_func = \"rectangular\", neighbors = kmin) |>\n",
    "    set_engine(\"kknn\") |>\n",
    "    set_mode(\"regression\")\n",
    "\n",
    "players_fit <- workflow() |>\n",
    "    add_recipe(players_recipe) |>\n",
    "    add_model(players_spec) |>\n",
    "    fit(data = players_train)\n",
    "\n",
    "players_summary <- players_fit |>\n",
    "    predict(players_test) |>\n",
    "    bind_cols(players_test) |>\n",
    "    metrics(truth = played_hours, estimate = .pred) |>\n",
    "    filter(.metric == 'rmse')\n",
    "\n",
    "neighbours_vs_rmspe <- players_results |>\n",
    "    ggplot(aes(x = neighbors, y = mean)) +\n",
    "    geom_point() +\n",
    "    geom_line() +\n",
    "    labs(x = \"Neighbors\",\n",
    "         y = \"RMSPE\",\n",
    "         title = \"Effect of # of neighbours on RMSPE\") +\n",
    "    theme(text = element_text(size = 20))"
   ]
  },
  {
   "cell_type": "markdown",
   "id": "93da9e48-c78c-4f78-b185-2f16a02c78ed",
   "metadata": {},
   "source": [
    "### Explatory Graphs"
   ]
  },
  {
   "cell_type": "code",
   "execution_count": 14,
   "id": "46d3889e-ff1b-45c9-a339-58ea146a7254",
   "metadata": {
    "vscode": {
     "languageId": "r"
    }
   },
   "outputs": [
    {
     "data": {
      "text/html": [
       "<table class=\"dataframe\">\n",
       "<caption>A tibble: 196 × 4</caption>\n",
       "<thead>\n",
       "\t<tr><th scope=col>experience</th><th scope=col>played_hours</th><th scope=col>gender</th><th scope=col>age</th></tr>\n",
       "\t<tr><th scope=col>&lt;fct&gt;</th><th scope=col>&lt;dbl&gt;</th><th scope=col>&lt;fct&gt;</th><th scope=col>&lt;dbl&gt;</th></tr>\n",
       "</thead>\n",
       "<tbody>\n",
       "\t<tr><td>Pro    </td><td>30.3</td><td>Male</td><td> 9</td></tr>\n",
       "\t<tr><td>Veteran</td><td> 3.8</td><td>Male</td><td>17</td></tr>\n",
       "\t<tr><td>Veteran</td><td> 0.0</td><td>Male</td><td>17</td></tr>\n",
       "\t<tr><td>⋮</td><td>⋮</td><td>⋮</td><td>⋮</td></tr>\n",
       "\t<tr><td>Amateur</td><td>0.0</td><td>Prefer not to say</td><td>17</td></tr>\n",
       "\t<tr><td>Amateur</td><td>2.3</td><td>Male             </td><td>17</td></tr>\n",
       "\t<tr><td>Pro    </td><td>0.2</td><td>Other            </td><td>91</td></tr>\n",
       "</tbody>\n",
       "</table>\n"
      ],
      "text/latex": [
       "A tibble: 196 × 4\n",
       "\\begin{tabular}{llll}\n",
       " experience & played\\_hours & gender & age\\\\\n",
       " <fct> & <dbl> & <fct> & <dbl>\\\\\n",
       "\\hline\n",
       "\t Pro     & 30.3 & Male &  9\\\\\n",
       "\t Veteran &  3.8 & Male & 17\\\\\n",
       "\t Veteran &  0.0 & Male & 17\\\\\n",
       "\t ⋮ & ⋮ & ⋮ & ⋮\\\\\n",
       "\t Amateur & 0.0 & Prefer not to say & 17\\\\\n",
       "\t Amateur & 2.3 & Male              & 17\\\\\n",
       "\t Pro     & 0.2 & Other             & 91\\\\\n",
       "\\end{tabular}\n"
      ],
      "text/markdown": [
       "\n",
       "A tibble: 196 × 4\n",
       "\n",
       "| experience &lt;fct&gt; | played_hours &lt;dbl&gt; | gender &lt;fct&gt; | age &lt;dbl&gt; |\n",
       "|---|---|---|---|\n",
       "| Pro     | 30.3 | Male |  9 |\n",
       "| Veteran |  3.8 | Male | 17 |\n",
       "| Veteran |  0.0 | Male | 17 |\n",
       "| ⋮ | ⋮ | ⋮ | ⋮ |\n",
       "| Amateur | 0.0 | Prefer not to say | 17 |\n",
       "| Amateur | 2.3 | Male              | 17 |\n",
       "| Pro     | 0.2 | Other             | 91 |\n",
       "\n"
      ],
      "text/plain": [
       "    experience played_hours gender            age\n",
       "1   Pro        30.3         Male               9 \n",
       "2   Veteran     3.8         Male              17 \n",
       "3   Veteran     0.0         Male              17 \n",
       "⋮   ⋮          ⋮            ⋮                 ⋮  \n",
       "194 Amateur    0.0          Prefer not to say 17 \n",
       "195 Amateur    2.3          Male              17 \n",
       "196 Pro        0.2          Other             91 "
      ]
     },
     "metadata": {},
     "output_type": "display_data"
    },
    {
     "data": {
      "text/html": [
       "<table class=\"dataframe\">\n",
       "<caption>A tibble: 5 × 2</caption>\n",
       "<thead>\n",
       "\t<tr><th scope=col>experience</th><th scope=col>count</th></tr>\n",
       "\t<tr><th scope=col>&lt;fct&gt;</th><th scope=col>&lt;int&gt;</th></tr>\n",
       "</thead>\n",
       "<tbody>\n",
       "\t<tr><td>Pro     </td><td>14</td></tr>\n",
       "\t<tr><td>Beginner</td><td>35</td></tr>\n",
       "\t<tr><td>Regular </td><td>36</td></tr>\n",
       "\t<tr><td>Veteran </td><td>48</td></tr>\n",
       "\t<tr><td>Amateur </td><td>63</td></tr>\n",
       "</tbody>\n",
       "</table>\n"
      ],
      "text/latex": [
       "A tibble: 5 × 2\n",
       "\\begin{tabular}{ll}\n",
       " experience & count\\\\\n",
       " <fct> & <int>\\\\\n",
       "\\hline\n",
       "\t Pro      & 14\\\\\n",
       "\t Beginner & 35\\\\\n",
       "\t Regular  & 36\\\\\n",
       "\t Veteran  & 48\\\\\n",
       "\t Amateur  & 63\\\\\n",
       "\\end{tabular}\n"
      ],
      "text/markdown": [
       "\n",
       "A tibble: 5 × 2\n",
       "\n",
       "| experience &lt;fct&gt; | count &lt;int&gt; |\n",
       "|---|---|\n",
       "| Pro      | 14 |\n",
       "| Beginner | 35 |\n",
       "| Regular  | 36 |\n",
       "| Veteran  | 48 |\n",
       "| Amateur  | 63 |\n",
       "\n"
      ],
      "text/plain": [
       "  experience count\n",
       "1 Pro        14   \n",
       "2 Beginner   35   \n",
       "3 Regular    36   \n",
       "4 Veteran    48   \n",
       "5 Amateur    63   "
      ]
     },
     "metadata": {},
     "output_type": "display_data"
    },
    {
     "data": {
      "text/html": [
       "<table class=\"dataframe\">\n",
       "<caption>A tibble: 7 × 2</caption>\n",
       "<thead>\n",
       "\t<tr><th scope=col>gender</th><th scope=col>count</th></tr>\n",
       "\t<tr><th scope=col>&lt;fct&gt;</th><th scope=col>&lt;int&gt;</th></tr>\n",
       "</thead>\n",
       "<tbody>\n",
       "\t<tr><td>Other       </td><td>1</td></tr>\n",
       "\t<tr><td>Agender     </td><td>2</td></tr>\n",
       "\t<tr><td>Two-Spirited</td><td>6</td></tr>\n",
       "\t<tr><td>⋮</td><td>⋮</td></tr>\n",
       "\t<tr><td>Non-binary</td><td> 15</td></tr>\n",
       "\t<tr><td>Female    </td><td> 37</td></tr>\n",
       "\t<tr><td>Male      </td><td>124</td></tr>\n",
       "</tbody>\n",
       "</table>\n"
      ],
      "text/latex": [
       "A tibble: 7 × 2\n",
       "\\begin{tabular}{ll}\n",
       " gender & count\\\\\n",
       " <fct> & <int>\\\\\n",
       "\\hline\n",
       "\t Other        & 1\\\\\n",
       "\t Agender      & 2\\\\\n",
       "\t Two-Spirited & 6\\\\\n",
       "\t ⋮ & ⋮\\\\\n",
       "\t Non-binary &  15\\\\\n",
       "\t Female     &  37\\\\\n",
       "\t Male       & 124\\\\\n",
       "\\end{tabular}\n"
      ],
      "text/markdown": [
       "\n",
       "A tibble: 7 × 2\n",
       "\n",
       "| gender &lt;fct&gt; | count &lt;int&gt; |\n",
       "|---|---|\n",
       "| Other        | 1 |\n",
       "| Agender      | 2 |\n",
       "| Two-Spirited | 6 |\n",
       "| ⋮ | ⋮ |\n",
       "| Non-binary |  15 |\n",
       "| Female     |  37 |\n",
       "| Male       | 124 |\n",
       "\n"
      ],
      "text/plain": [
       "  gender       count\n",
       "1 Other        1    \n",
       "2 Agender      2    \n",
       "3 Two-Spirited 6    \n",
       "⋮ ⋮            ⋮    \n",
       "5 Non-binary    15  \n",
       "6 Female        37  \n",
       "7 Male         124  "
      ]
     },
     "metadata": {},
     "output_type": "display_data"
    },
    {
     "data": {
      "image/png": "[encoded data removed]",
      "text/plain": [
       "plot without title"
      ]
     },
     "metadata": {
      "image/png": {
       "height": 360,
       "width": 900
      }
     },
     "output_type": "display_data"
    },
    {
     "data": {
      "image/png": "[encoded data removed]",
      "text/plain": [
       "plot without title"
      ]
     },
     "metadata": {
      "image/png": {
       "height": 360,
       "width": 900
      }
     },
     "output_type": "display_data"
    }
   ],
   "source": [
    "players\n",
    "num_players_by_exp\n",
    "num_players_by_gender\n",
    "\n",
    "options(repr.plot.width = 15, repr.plot.height = 6)\n",
    "\n",
    "plot_grid(experience_vs_hours, players_bar,\n",
    "          ncol = 2)\n",
    "\n",
    "options(repr.plot.width = 15, repr.plot.height = 6)\n",
    "\n",
    "plot_grid(played_hours, gender_makeup,\n",
    "          ncol = 2)"
   ]
  },
  {
   "cell_type": "markdown",
   "id": "ca7d5973-d6c8-4718-ace7-af40a7d30567",
   "metadata": {},
   "source": [
    "#### Classification Graphs"
   ]
  },
  {
   "cell_type": "code",
   "execution_count": 15,
   "id": "a8217e79-a85d-4406-a53e-2f83c23ebdc6",
   "metadata": {},
   "outputs": [
    {
     "data": {
      "text/html": [
       "<table class=\"dataframe\">\n",
       "<caption>A tibble: 1 × 7</caption>\n",
       "<thead>\n",
       "\t<tr><th scope=col>neighbors</th><th scope=col>.metric</th><th scope=col>.estimator</th><th scope=col>mean</th><th scope=col>n</th><th scope=col>std_err</th><th scope=col>.config</th></tr>\n",
       "\t<tr><th scope=col>&lt;dbl&gt;</th><th scope=col>&lt;chr&gt;</th><th scope=col>&lt;chr&gt;</th><th scope=col>&lt;dbl&gt;</th><th scope=col>&lt;int&gt;</th><th scope=col>&lt;dbl&gt;</th><th scope=col>&lt;chr&gt;</th></tr>\n",
       "</thead>\n",
       "<tbody>\n",
       "\t<tr><td>55</td><td>rmse</td><td>standard</td><td>15.72185</td><td>15</td><td>5.948321</td><td>Preprocessor1_Model055</td></tr>\n",
       "</tbody>\n",
       "</table>\n"
      ],
      "text/latex": [
       "A tibble: 1 × 7\n",
       "\\begin{tabular}{lllllll}\n",
       " neighbors & .metric & .estimator & mean & n & std\\_err & .config\\\\\n",
       " <dbl> & <chr> & <chr> & <dbl> & <int> & <dbl> & <chr>\\\\\n",
       "\\hline\n",
       "\t 55 & rmse & standard & 15.72185 & 15 & 5.948321 & Preprocessor1\\_Model055\\\\\n",
       "\\end{tabular}\n"
      ],
      "text/markdown": [
       "\n",
       "A tibble: 1 × 7\n",
       "\n",
       "| neighbors &lt;dbl&gt; | .metric &lt;chr&gt; | .estimator &lt;chr&gt; | mean &lt;dbl&gt; | n &lt;int&gt; | std_err &lt;dbl&gt; | .config &lt;chr&gt; |\n",
       "|---|---|---|---|---|---|---|\n",
       "| 55 | rmse | standard | 15.72185 | 15 | 5.948321 | Preprocessor1_Model055 |\n",
       "\n"
      ],
      "text/plain": [
       "  neighbors .metric .estimator mean     n  std_err  .config               \n",
       "1 55        rmse    standard   15.72185 15 5.948321 Preprocessor1_Model055"
      ]
     },
     "metadata": {},
     "output_type": "display_data"
    },
    {
     "data": {
      "image/png": "[encoded data removed]",
      "text/plain": [
       "plot without title"
      ]
     },
     "metadata": {
      "image/png": {
       "height": 420,
       "width": 900
      }
     },
     "output_type": "display_data"
    }
   ],
   "source": [
    "# displays results of training to find the best k value\n",
    "\n",
    "# Best k value (k = 55) and its results\n",
    "players_results |>\n",
    "filter(mean == min(mean))\n",
    "\n",
    "options(repr.plot.width = 15, repr.plot.height = 7)\n",
    "neighbours_vs_rmse <- players_results |>\n",
    "    ggplot(aes(x = neighbors, y = mean)) +\n",
    "    geom_point() +\n",
    "    geom_line() +\n",
    "    labs(x = \"Neighbors\",\n",
    "         y = \"RMSE\",\n",
    "         title = \"Effect of # of neighbours on RMSE\") +\n",
    "    theme(text = element_text(size = 20))\n",
    "\n",
    "neighbours_vs_rmse"
   ]
  },
  {
   "cell_type": "code",
   "execution_count": 16,
   "id": "20b43c3f-c174-41ac-bc49-eebfcd5c7202",
   "metadata": {},
   "outputs": [
    {
     "data": {
      "text/html": [
       "<table class=\"dataframe\">\n",
       "<caption>A tibble: 1 × 3</caption>\n",
       "<thead>\n",
       "\t<tr><th scope=col>.metric</th><th scope=col>.estimator</th><th scope=col>.estimate</th></tr>\n",
       "\t<tr><th scope=col>&lt;chr&gt;</th><th scope=col>&lt;chr&gt;</th><th scope=col>&lt;dbl&gt;</th></tr>\n",
       "</thead>\n",
       "<tbody>\n",
       "\t<tr><td>rmse</td><td>standard</td><td>30.2893</td></tr>\n",
       "</tbody>\n",
       "</table>\n"
      ],
      "text/latex": [
       "A tibble: 1 × 3\n",
       "\\begin{tabular}{lll}\n",
       " .metric & .estimator & .estimate\\\\\n",
       " <chr> & <chr> & <dbl>\\\\\n",
       "\\hline\n",
       "\t rmse & standard & 30.2893\\\\\n",
       "\\end{tabular}\n"
      ],
      "text/markdown": [
       "\n",
       "A tibble: 1 × 3\n",
       "\n",
       "| .metric &lt;chr&gt; | .estimator &lt;chr&gt; | .estimate &lt;dbl&gt; |\n",
       "|---|---|---|\n",
       "| rmse | standard | 30.2893 |\n",
       "\n"
      ],
      "text/plain": [
       "  .metric .estimator .estimate\n",
       "1 rmse    standard   30.2893  "
      ]
     },
     "metadata": {},
     "output_type": "display_data"
    }
   ],
   "source": [
    "# displays the RMSPE of the data at the best k value (k = 55)\n",
    "players_summary"
   ]
  },
  {
   "cell_type": "code",
   "execution_count": 17,
   "id": "41968914-ad10-4d37-aef4-76fd88b820c7",
   "metadata": {},
   "outputs": [],
   "source": [
    "options(repr.plot.width = 10, repr.plot.height = 10)\n",
    "\n",
    "# Violin plot comparing gender and predicted played hours\n",
    "gender_predicted_hours <- players_fit |>\n",
    "    predict(players_test) |>\n",
    "    bind_cols(players_test) |>\n",
    "    ggplot(aes(x = gender, y = .pred)) +\n",
    "    geom_violin() +\n",
    "    labs(x = \"Gender\",\n",
    "         y = \"Predicted Played Hours\",\n",
    "         title = \"Non-binary Players Play More\") +\n",
    "    theme(text = element_text(size = 20))"
   ]
  },
  {
   "cell_type": "code",
   "execution_count": 18,
   "id": "2a2cd9be-dce3-4bc1-ad6f-37b952920d12",
   "metadata": {},
   "outputs": [
    {
     "data": {
      "image/png": "[encoded data removed]",
      "text/plain": [
       "plot without title"
      ]
     },
     "metadata": {
      "image/png": {
       "height": 600,
       "width": 600
      }
     },
     "output_type": "display_data"
    }
   ],
   "source": [
    "# Violin plot comparing experience and predicted played hours\n",
    "experience_predicted_hours <- players_fit |>\n",
    "    predict(players_test) |>\n",
    "    bind_cols(players_test) |>\n",
    "    ggplot(aes(x = experience, y = .pred)) +\n",
    "    geom_violin() +\n",
    "    labs(x = \"Experience\",\n",
    "         y = \"Predicted Played Hours\",\n",
    "         title = \"Regular Players Play More\") +\n",
    "    theme(text = element_text(size = 20))\n",
    "\n",
    "experience_predicted_hours"
   ]
  },
  {
   "cell_type": "code",
   "execution_count": 19,
   "id": "80ee9c3e-5c60-4fba-8cee-102b8cfad67e",
   "metadata": {},
   "outputs": [
    {
     "name": "stderr",
     "output_type": "stream",
     "text": [
      "Warning message in geom_bar(stat = \"identity\", bins = 5):\n",
      "\"\u001b[1m\u001b[22mIgnoring unknown parameters: `bins`\"\n"
     ]
    },
    {
     "data": {
      "image/png": "[encoded data removed]",
      "text/plain": [
       "plot without title"
      ]
     },
     "metadata": {
      "image/png": {
       "height": 600,
       "width": 600
      }
     },
     "output_type": "display_data"
    }
   ],
   "source": [
    "# Bar plot comparing age and predicted played hours\n",
    "experience_predicted_hours <- players_fit |>\n",
    "    predict(players_test) |>\n",
    "    bind_cols(players_test) |>\n",
    "    group_by(age) |>\n",
    "    summarize(mean_pred = mean(.pred)) |>\n",
    "    ggplot(aes(x = age, y = mean_pred)) +\n",
    "    geom_bar(stat = \"identity\", bins = 5) +\n",
    "    labs(x = \"Age\",\n",
    "         y = \"Predicted Played Hours\",\n",
    "         title = \"Late Teens Play More\") +\n",
    "    scale_x_continuous(breaks = seq(0, 100, by = 5)) +\n",
    "    theme(text = element_text(size = 20))\n",
    "\n",
    "experience_predicted_hours"
   ]
  },
  {
   "cell_type": "markdown",
   "id": "25998020-6dd3-4a18-86b3-cbb9ec1883e1",
   "metadata": {},
   "source": [
    "## Discussion"
   ]
  },
  {
   "cell_type": "code",
   "execution_count": null,
   "id": "f435f820-c9c9-4136-bf10-a4e0b9c8d331",
   "metadata": {
    "vscode": {
     "languageId": "r"
    }
   },
   "outputs": [],
   "source": []
  },
  {
   "cell_type": "markdown",
   "id": "b6e1c6b2-cdd3-407b-bab0-fada461358a4",
   "metadata": {},
   "source": [
    "## References (?)"
   ]
  },
  {
   "cell_type": "code",
   "execution_count": null,
   "id": "84b387d7-9bab-4753-bbd8-a3a167d7be2f",
   "metadata": {
    "vscode": {
     "languageId": "r"
    }
   },
   "outputs": [],
   "source": []
  }
 ],
 "metadata": {
  "kernelspec": {
   "display_name": "R",
   "language": "R",
   "name": "ir"
  },
  "language_info": {
   "codemirror_mode": "r",
   "file_extension": ".r",
   "mimetype": "text/x-r-source",
   "name": "R",
   "pygments_lexer": "r",
   "version": "4.4.1"
  }
 },
 "nbformat": 4,
 "nbformat_minor": 5
}
