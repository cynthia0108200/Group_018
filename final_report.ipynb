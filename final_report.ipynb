{
 "cells": [
  {
   "cell_type": "markdown",
   "id": "8d8e3d7b-defe-498c-9cd4-b9079a17cb34",
   "metadata": {},
   "source": [
    "# Final Project Report\n",
    "##### *Cynthia Wang, Luke Angelo Santiago, Tim Generalov, Sarah Porcheron*"
   ]
  },
  {
   "cell_type": "markdown",
   "id": "7e5be0f2-bdf8-4235-be22-66fdb4295a39",
   "metadata": {},
   "source": [
    "## Introduction"
   ]
  },
  {
   "cell_type": "code",
   "execution_count": null,
   "id": "a5bb0241-5035-4405-8878-51150fd82498",
   "metadata": {
    "vscode": {
     "languageId": "r"
    }
   },
   "outputs": [],
   "source": []
  },
  {
   "cell_type": "markdown",
   "id": "6f38c80c-d827-4b50-9fe9-2859fb3e61d0",
   "metadata": {},
   "source": [
    "## Methods"
   ]
  },
  {
   "cell_type": "code",
   "execution_count": null,
   "id": "7dbca8bd-a650-4ec6-9bd0-7b4b733066b6",
   "metadata": {
    "vscode": {
     "languageId": "r"
    }
   },
   "outputs": [],
   "source": []
  },
  {
   "cell_type": "markdown",
   "id": "e391833f-e089-4f42-b05f-d40f8aafb07c",
   "metadata": {},
   "source": [
    "## Results"
   ]
  },
  {
   "cell_type": "code",
   "execution_count": 37,
   "id": "a5d821da-d9bf-417b-8dfe-6ebcd0e7a2c6",
   "metadata": {
    "vscode": {
     "languageId": "r"
    }
   },
   "outputs": [],
   "source": [
    "### Run this cell before continuing.\n",
    "library(tidyverse)\n",
    "library(repr)\n",
    "library(tidymodels)\n",
    "library(cowplot)\n",
    "library(RColorBrewer)\n",
    "options(repr.matrix.max.rows = 6)"
   ]
  },
  {
   "cell_type": "markdown",
   "id": "2f31488e-9e77-427c-80f8-87d0f6885a54",
   "metadata": {},
   "source": [
    "### Code"
   ]
  },
  {
   "cell_type": "code",
   "execution_count": 38,
   "id": "7ab10e2b-0323-42e0-bbc1-211725700f14",
   "metadata": {
    "vscode": {
     "languageId": "r"
    }
   },
   "outputs": [
    {
     "name": "stderr",
     "output_type": "stream",
     "text": [
      "\u001b[1mRows: \u001b[22m\u001b[34m196\u001b[39m \u001b[1mColumns: \u001b[22m\u001b[34m9\u001b[39m\n",
      "\u001b[36m──\u001b[39m \u001b[1mColumn specification\u001b[22m \u001b[36m────────────────────────────────────────────────────────\u001b[39m\n",
      "\u001b[1mDelimiter:\u001b[22m \",\"\n",
      "\u001b[31mchr\u001b[39m (4): experience, hashedEmail, name, gender\n",
      "\u001b[32mdbl\u001b[39m (2): played_hours, age\n",
      "\u001b[33mlgl\u001b[39m (3): subscribe, individualId, organizationName\n",
      "\n",
      "\u001b[36mℹ\u001b[39m Use `spec()` to retrieve the full column specification for this data.\n",
      "\u001b[36mℹ\u001b[39m Specify the column types or set `show_col_types = FALSE` to quiet this message.\n"
     ]
    }
   ],
   "source": [
    "url <- \"https://drive.google.com/uc?export=download&id=1Mw9vW0hjTJwRWx0bDXiSpYsO3gKogaPz\"\n",
    "\n",
    "players <- \n",
    "    # read_csv(url) |>\n",
    "    read_csv(\"data/players.csv\") |>\n",
    "    # experience and gender changed to factor type in order to be treated as category\n",
    "    mutate(experience = as.factor(experience),\n",
    "           gender = as.factor(gender)) |>\n",
    "\n",
    "    # removed hashedEmail, individualId, and organizationName because they have no information\n",
    "    # removed subscribe and name because they have no useful information about the type of user\n",
    "    select(experience, played_hours, gender, age)"
   ]
  },
  {
   "cell_type": "markdown",
   "id": "682c9536-fb37-4781-956d-f8c49374e5d8",
   "metadata": {
    "jp-MarkdownHeadingCollapsed": true
   },
   "source": [
    "#### Graph Code"
   ]
  },
  {
   "cell_type": "code",
   "execution_count": 39,
   "id": "1bee7736-0811-46e7-86f3-13ae82da7807",
   "metadata": {
    "vscode": {
     "languageId": "r"
    }
   },
   "outputs": [],
   "source": [
    "# number of players in each experience level\n",
    "num_players_by_exp <- players |>\n",
    "    group_by(experience) |>\n",
    "    summarize(count = n()) |>\n",
    "    arrange(count)"
   ]
  },
  {
   "cell_type": "code",
   "execution_count": 40,
   "id": "68c84c97-011a-4358-9486-605b66395541",
   "metadata": {
    "vscode": {
     "languageId": "r"
    }
   },
   "outputs": [],
   "source": [
    "# number of players from a certain gender\n",
    "num_players_by_gender <- players |>\n",
    "    group_by(gender) |>\n",
    "    summarize(count = n()) |>\n",
    "    arrange(count)"
   ]
  },
  {
   "cell_type": "code",
   "execution_count": 41,
   "id": "06f28547-a39d-49f1-972c-4d5541b4c9ac",
   "metadata": {
    "vscode": {
     "languageId": "r"
    }
   },
   "outputs": [
    {
     "name": "stderr",
     "output_type": "stream",
     "text": [
      "Warning message in geom_histogram(stat = \"identity\", position = \"dodge\"):\n",
      "\"\u001b[1m\u001b[22mIgnoring unknown parameters: `binwidth`, `bins`, and `pad`\"\n"
     ]
    }
   ],
   "source": [
    "# hours contributed by experience level and gender\n",
    "experience_vs_hours <- players |>\n",
    "    ggplot(aes(x = experience, y = played_hours, fill = gender)) +\n",
    "    geom_histogram(stat = \"identity\", position = \"dodge\") +\n",
    "    labs(x = \"Experience\",\n",
    "         y = \"# of hours played\",\n",
    "         title = \"Hours Contribution by Experience and Gender\") +\n",
    "    theme(text = element_text(size = 15)) +\n",
    "    scale_fill_brewer(palette = 'Set2')"
   ]
  },
  {
   "cell_type": "code",
   "execution_count": 42,
   "id": "dbdf2cd6-2473-4b90-9466-977c51683059",
   "metadata": {
    "vscode": {
     "languageId": "r"
    }
   },
   "outputs": [
    {
     "name": "stderr",
     "output_type": "stream",
     "text": [
      "\u001b[1m\u001b[22m`summarise()` has grouped output by 'age'. You can override using the `.groups`\n",
      "argument.\n"
     ]
    }
   ],
   "source": [
    "# each experience level group's mean hours based on age\n",
    "players_bar <- players |>\n",
    "    filter(age < 51) |>\n",
    "    group_by(age, experience) |>\n",
    "    summarize(avg_played_hours = mean(played_hours)) |>\n",
    "    ggplot(aes(x = age, y = avg_played_hours, fill = experience)) +\n",
    "    geom_bar(stat = \"identity\") +\n",
    "    facet_grid(rows = vars(experience)) +\n",
    "    labs(x = \"Age\",\n",
    "         y = \"Average hours played\",\n",
    "         fill = \"Experience level\",\n",
    "         title = \"Mean Playing Hours Compared to Age and Experience\") +\n",
    "    theme(text = element_text(size = 15)) +\n",
    "    scale_fill_brewer(palette = 'Paired')"
   ]
  },
  {
   "cell_type": "code",
   "execution_count": 43,
   "id": "f234c7e9-a73d-44e3-af35-2d239b1f3d32",
   "metadata": {
    "vscode": {
     "languageId": "r"
    }
   },
   "outputs": [],
   "source": [
    "# distribution of played hours\n",
    "played_hours <- ggplot(players, aes(x = played_hours)) +\n",
    "  geom_histogram(binwidth = 5, fill = \"steelblue\", color = \"black\") +\n",
    "  labs(title = \"Distribution of Total Played Hours\",\n",
    "       x = \"Total Played Hours\",\n",
    "       y = \"Number of Players\") +\n",
    "  theme(text = element_text(size = 15))\n"
   ]
  },
  {
   "cell_type": "code",
   "execution_count": 44,
   "id": "7fdf739c-3ef5-4563-8ff3-81253094e1ca",
   "metadata": {
    "vscode": {
     "languageId": "r"
    }
   },
   "outputs": [
    {
     "name": "stderr",
     "output_type": "stream",
     "text": [
      "\u001b[1m\u001b[22m`summarise()` has grouped output by 'gender'. You can override using the\n",
      "`.groups` argument.\n"
     ]
    }
   ],
   "source": [
    "# graph comparing the gender make-up in each experience level group\n",
    "gender_makeup <- players |>\n",
    "    group_by(gender, experience) |>\n",
    "    summarize(count = n()) |>\n",
    "    ggplot(aes(x = count, y = experience, fill = gender)) +\n",
    "    geom_bar(stat = \"identity\", position = \"fill\") +\n",
    "    labs(x = \"Gender make-up (%)\",\n",
    "         y = \"Experience\",\n",
    "         title = \"Gender Make-up of Experience Level Groups\") +\n",
    "    theme(text = element_text(size = 15)) +\n",
    "    scale_fill_brewer(palette = 'Set2')"
   ]
  },
  {
   "cell_type": "markdown",
   "id": "b356a73a-ef84-4d3c-83e7-244735dd2296",
   "metadata": {},
   "source": [
    "#### Classification Model Code"
   ]
  },
  {
   "cell_type": "code",
   "execution_count": 45,
   "id": "b5d83be1-022c-4546-8d6f-437a6ed310d0",
   "metadata": {
    "vscode": {
     "languageId": "r"
    }
   },
   "outputs": [],
   "source": [
    "set.seed(170) # DO NOT REMOVE\n",
    "\n",
    "# splitting the data \n",
    "players_split <- initial_split(players, prop = 0.7, strata = played_hours)\n",
    "players_train <- training(players_split) # 136 observations\n",
    "players_test <- testing(players_split) # 60 observations"
   ]
  },
  {
   "cell_type": "code",
   "execution_count": 46,
   "id": "583290bf-87c0-4b2f-86f3-426531742f87",
   "metadata": {
    "vscode": {
     "languageId": "r"
    }
   },
   "outputs": [],
   "source": [
    "set.seed(6330) # DO NOT REMOVE\n",
    "\n",
    "# training the data\n",
    "players_recipe <- recipe(played_hours ~ ., data = players)\n",
    "\n",
    "players_spec <- nearest_neighbor(weight_func = \"rectangular\",\n",
    "                                 neighbors = tune()) |>\n",
    "    set_engine(\"kknn\") |>\n",
    "    set_mode(\"regression\")\n",
    "\n",
    "players_vfold <- vfold_cv(players_train, v = 15, strata = played_hours)\n",
    "\n",
    "players_workflow <- workflow() |>\n",
    "    add_recipe(players_recipe) |>\n",
    "    add_model(players_spec)\n",
    "\n",
    "gridvals <- tibble(neighbors = seq(from = 1, to = 100, by = 1)) \n",
    "\n",
    "players_results <- players_workflow |>\n",
    "    tune_grid(resamples = players_vfold, grid = gridvals) |>\n",
    "    collect_metrics() |>\n",
    "    filter(.metric == \"rmse\")\n",
    "\n",
    "kmin <- players_results |>\n",
    "    filter(mean == min(mean)) |>\n",
    "    pull(neighbors)"
   ]
  },
  {
   "cell_type": "code",
   "execution_count": 47,
   "id": "ea7d0a26-8bd1-4a23-8aea-2519d0accdc8",
   "metadata": {
    "vscode": {
     "languageId": "r"
    }
   },
   "outputs": [],
   "source": [
    "# testing the data\n",
    "players_spec <- nearest_neighbor(weight_func = \"rectangular\", neighbors = kmin) |>\n",
    "    set_engine(\"kknn\") |>\n",
    "    set_mode(\"regression\")\n",
    "\n",
    "players_fit <- workflow() |>\n",
    "    add_recipe(players_recipe) |>\n",
    "    add_model(players_spec) |>\n",
    "    fit(data = players_train)\n",
    "\n",
    "players_summary <- players_fit |>\n",
    "    predict(players_test) |>\n",
    "    bind_cols(players_test) |>\n",
    "    metrics(truth = played_hours, estimate = .pred) |>\n",
    "    filter(.metric == 'rmse')"
   ]
  },
  {
   "cell_type": "code",
   "execution_count": 48,
   "id": "fada05c9-a422-400d-863d-a48abe7bbe85",
   "metadata": {
    "vscode": {
     "languageId": "r"
    }
   },
   "outputs": [
    {
     "data": {
      "text/html": [
       "<table class=\"dataframe\">\n",
       "<caption>A tibble: 100 × 7</caption>\n",
       "<thead>\n",
       "\t<tr><th scope=col>neighbors</th><th scope=col>.metric</th><th scope=col>.estimator</th><th scope=col>mean</th><th scope=col>n</th><th scope=col>std_err</th><th scope=col>.config</th></tr>\n",
       "\t<tr><th scope=col>&lt;dbl&gt;</th><th scope=col>&lt;chr&gt;</th><th scope=col>&lt;chr&gt;</th><th scope=col>&lt;dbl&gt;</th><th scope=col>&lt;int&gt;</th><th scope=col>&lt;dbl&gt;</th><th scope=col>&lt;chr&gt;</th></tr>\n",
       "</thead>\n",
       "<tbody>\n",
       "\t<tr><td>1</td><td>rmse</td><td>standard</td><td>19.75187</td><td>15</td><td>7.084962</td><td>Preprocessor1_Model001</td></tr>\n",
       "\t<tr><td>2</td><td>rmse</td><td>standard</td><td>17.08186</td><td>15</td><td>6.291527</td><td>Preprocessor1_Model002</td></tr>\n",
       "\t<tr><td>3</td><td>rmse</td><td>standard</td><td>18.96664</td><td>15</td><td>6.153587</td><td>Preprocessor1_Model003</td></tr>\n",
       "\t<tr><td>⋮</td><td>⋮</td><td>⋮</td><td>⋮</td><td>⋮</td><td>⋮</td><td>⋮</td></tr>\n",
       "\t<tr><td> 98</td><td>rmse</td><td>standard</td><td>16.07385</td><td>15</td><td>5.882626</td><td>Preprocessor1_Model098</td></tr>\n",
       "\t<tr><td> 99</td><td>rmse</td><td>standard</td><td>16.04970</td><td>15</td><td>5.880224</td><td>Preprocessor1_Model099</td></tr>\n",
       "\t<tr><td>100</td><td>rmse</td><td>standard</td><td>16.07419</td><td>15</td><td>5.877940</td><td>Preprocessor1_Model100</td></tr>\n",
       "</tbody>\n",
       "</table>\n"
      ],
      "text/latex": [
       "A tibble: 100 × 7\n",
       "\\begin{tabular}{lllllll}\n",
       " neighbors & .metric & .estimator & mean & n & std\\_err & .config\\\\\n",
       " <dbl> & <chr> & <chr> & <dbl> & <int> & <dbl> & <chr>\\\\\n",
       "\\hline\n",
       "\t 1 & rmse & standard & 19.75187 & 15 & 7.084962 & Preprocessor1\\_Model001\\\\\n",
       "\t 2 & rmse & standard & 17.08186 & 15 & 6.291527 & Preprocessor1\\_Model002\\\\\n",
       "\t 3 & rmse & standard & 18.96664 & 15 & 6.153587 & Preprocessor1\\_Model003\\\\\n",
       "\t ⋮ & ⋮ & ⋮ & ⋮ & ⋮ & ⋮ & ⋮\\\\\n",
       "\t  98 & rmse & standard & 16.07385 & 15 & 5.882626 & Preprocessor1\\_Model098\\\\\n",
       "\t  99 & rmse & standard & 16.04970 & 15 & 5.880224 & Preprocessor1\\_Model099\\\\\n",
       "\t 100 & rmse & standard & 16.07419 & 15 & 5.877940 & Preprocessor1\\_Model100\\\\\n",
       "\\end{tabular}\n"
      ],
      "text/markdown": [
       "\n",
       "A tibble: 100 × 7\n",
       "\n",
       "| neighbors &lt;dbl&gt; | .metric &lt;chr&gt; | .estimator &lt;chr&gt; | mean &lt;dbl&gt; | n &lt;int&gt; | std_err &lt;dbl&gt; | .config &lt;chr&gt; |\n",
       "|---|---|---|---|---|---|---|\n",
       "| 1 | rmse | standard | 19.75187 | 15 | 7.084962 | Preprocessor1_Model001 |\n",
       "| 2 | rmse | standard | 17.08186 | 15 | 6.291527 | Preprocessor1_Model002 |\n",
       "| 3 | rmse | standard | 18.96664 | 15 | 6.153587 | Preprocessor1_Model003 |\n",
       "| ⋮ | ⋮ | ⋮ | ⋮ | ⋮ | ⋮ | ⋮ |\n",
       "|  98 | rmse | standard | 16.07385 | 15 | 5.882626 | Preprocessor1_Model098 |\n",
       "|  99 | rmse | standard | 16.04970 | 15 | 5.880224 | Preprocessor1_Model099 |\n",
       "| 100 | rmse | standard | 16.07419 | 15 | 5.877940 | Preprocessor1_Model100 |\n",
       "\n"
      ],
      "text/plain": [
       "    neighbors .metric .estimator mean     n  std_err  .config               \n",
       "1   1         rmse    standard   19.75187 15 7.084962 Preprocessor1_Model001\n",
       "2   2         rmse    standard   17.08186 15 6.291527 Preprocessor1_Model002\n",
       "3   3         rmse    standard   18.96664 15 6.153587 Preprocessor1_Model003\n",
       "⋮   ⋮         ⋮       ⋮          ⋮        ⋮  ⋮        ⋮                     \n",
       "98   98       rmse    standard   16.07385 15 5.882626 Preprocessor1_Model098\n",
       "99   99       rmse    standard   16.04970 15 5.880224 Preprocessor1_Model099\n",
       "100 100       rmse    standard   16.07419 15 5.877940 Preprocessor1_Model100"
      ]
     },
     "metadata": {},
     "output_type": "display_data"
    },
    {
     "data": {
      "text/html": [
       "<table class=\"dataframe\">\n",
       "<caption>A tibble: 1 × 7</caption>\n",
       "<thead>\n",
       "\t<tr><th scope=col>neighbors</th><th scope=col>.metric</th><th scope=col>.estimator</th><th scope=col>mean</th><th scope=col>n</th><th scope=col>std_err</th><th scope=col>.config</th></tr>\n",
       "\t<tr><th scope=col>&lt;dbl&gt;</th><th scope=col>&lt;chr&gt;</th><th scope=col>&lt;chr&gt;</th><th scope=col>&lt;dbl&gt;</th><th scope=col>&lt;int&gt;</th><th scope=col>&lt;dbl&gt;</th><th scope=col>&lt;chr&gt;</th></tr>\n",
       "</thead>\n",
       "<tbody>\n",
       "\t<tr><td>55</td><td>rmse</td><td>standard</td><td>15.72185</td><td>15</td><td>5.948321</td><td>Preprocessor1_Model055</td></tr>\n",
       "</tbody>\n",
       "</table>\n"
      ],
      "text/latex": [
       "A tibble: 1 × 7\n",
       "\\begin{tabular}{lllllll}\n",
       " neighbors & .metric & .estimator & mean & n & std\\_err & .config\\\\\n",
       " <dbl> & <chr> & <chr> & <dbl> & <int> & <dbl> & <chr>\\\\\n",
       "\\hline\n",
       "\t 55 & rmse & standard & 15.72185 & 15 & 5.948321 & Preprocessor1\\_Model055\\\\\n",
       "\\end{tabular}\n"
      ],
      "text/markdown": [
       "\n",
       "A tibble: 1 × 7\n",
       "\n",
       "| neighbors &lt;dbl&gt; | .metric &lt;chr&gt; | .estimator &lt;chr&gt; | mean &lt;dbl&gt; | n &lt;int&gt; | std_err &lt;dbl&gt; | .config &lt;chr&gt; |\n",
       "|---|---|---|---|---|---|---|\n",
       "| 55 | rmse | standard | 15.72185 | 15 | 5.948321 | Preprocessor1_Model055 |\n",
       "\n"
      ],
      "text/plain": [
       "  neighbors .metric .estimator mean     n  std_err  .config               \n",
       "1 55        rmse    standard   15.72185 15 5.948321 Preprocessor1_Model055"
      ]
     },
     "metadata": {},
     "output_type": "display_data"
    },
    {
     "data": {
      "image/png": "[encoded data removed]",
      "text/plain": [
       "plot without title"
      ]
     },
     "metadata": {
      "image/png": {
       "height": 360,
       "width": 900
      }
     },
     "output_type": "display_data"
    }
   ],
   "source": [
    "# displays results of training to find the best k value\n",
    "players_results\n",
    "\n",
    "players_results |>\n",
    "filter(mean == min(mean))\n",
    "\n",
    "ggplot(players_results, aes(x = neighbors, y = mean)) +\n",
    "geom_point() +\n",
    "geom_line() +\n",
    "labs(x = \"Neighbors\",\n",
    "     y = \"RMSPE\",\n",
    "     title = \"Effect of # of neighbours on RMSPE\") +\n",
    "\n",
    "theme(text = element_text(size = 20))"
   ]
  },
  {
   "cell_type": "code",
   "execution_count": 49,
   "id": "0bbd73e9-169e-4f36-b748-e9b72b22d595",
   "metadata": {
    "vscode": {
     "languageId": "r"
    }
   },
   "outputs": [
    {
     "data": {
      "text/html": [
       "<table class=\"dataframe\">\n",
       "<caption>A tibble: 1 × 3</caption>\n",
       "<thead>\n",
       "\t<tr><th scope=col>.metric</th><th scope=col>.estimator</th><th scope=col>.estimate</th></tr>\n",
       "\t<tr><th scope=col>&lt;chr&gt;</th><th scope=col>&lt;chr&gt;</th><th scope=col>&lt;dbl&gt;</th></tr>\n",
       "</thead>\n",
       "<tbody>\n",
       "\t<tr><td>rmse</td><td>standard</td><td>30.2893</td></tr>\n",
       "</tbody>\n",
       "</table>\n"
      ],
      "text/latex": [
       "A tibble: 1 × 3\n",
       "\\begin{tabular}{lll}\n",
       " .metric & .estimator & .estimate\\\\\n",
       " <chr> & <chr> & <dbl>\\\\\n",
       "\\hline\n",
       "\t rmse & standard & 30.2893\\\\\n",
       "\\end{tabular}\n"
      ],
      "text/markdown": [
       "\n",
       "A tibble: 1 × 3\n",
       "\n",
       "| .metric &lt;chr&gt; | .estimator &lt;chr&gt; | .estimate &lt;dbl&gt; |\n",
       "|---|---|---|\n",
       "| rmse | standard | 30.2893 |\n",
       "\n"
      ],
      "text/plain": [
       "  .metric .estimator .estimate\n",
       "1 rmse    standard   30.2893  "
      ]
     },
     "metadata": {},
     "output_type": "display_data"
    }
   ],
   "source": [
    "# displays the RMSPE of the data at the best k value (k = ...)\n",
    "players_summary"
   ]
  },
  {
   "cell_type": "markdown",
   "id": "93da9e48-c78c-4f78-b185-2f16a02c78ed",
   "metadata": {},
   "source": [
    "### Graphs"
   ]
  },
  {
   "cell_type": "code",
   "execution_count": 50,
   "id": "46d3889e-ff1b-45c9-a339-58ea146a7254",
   "metadata": {
    "vscode": {
     "languageId": "r"
    }
   },
   "outputs": [
    {
     "ename": "ERROR",
     "evalue": "Error in parse(text = input): <text>:13:20: unexpected ')'\n12: plot_grid(played_hours, gender_makeup,\n13:           ncol = 2/)\n                       ^\n",
     "output_type": "error",
     "traceback": [
      "Error in parse(text = input): <text>:13:20: unexpected ')'\n12: plot_grid(played_hours, gender_makeup,\n13:           ncol = 2/)\n                       ^\nTraceback:\n"
     ]
    }
   ],
   "source": [
    "players\n",
    "num_players_by_exp\n",
    "num_players_by_gender\n",
    "\n",
    "options(repr.plot.width = 15, repr.plot.height = 6)\n",
    "\n",
    "plot_grid(experience_vs_hours, players_bar,\n",
    "          ncol = 2)\n",
    "\n",
    "options(repr.plot.width = 15, repr.plot.height = 6)\n",
    "\n",
    "plot_grid(played_hours, gender_makeup,\n",
    "          ncol = 2)"
   ]
  },
  {
   "cell_type": "markdown",
   "id": "e9349b92-b93a-4064-aac3-9b54224318e3",
   "metadata": {},
   "source": [
    "Insights seen from the plots:\n",
    "- Male players vastly dominate the participant demographic. Consequently, they deliver the most hours to the study despite having the lowest hours contributed per capita.\n",
    "- Regular and amateur players contributed the most hours to the study.\n",
    "- Non-binary and female players tend to play more.\n",
    "- The dataset is mostly comprised of pre-adolescents and young adults."
   ]
  },
  {
   "cell_type": "markdown",
   "id": "25998020-6dd3-4a18-86b3-cbb9ec1883e1",
   "metadata": {},
   "source": [
    "## Discussion"
   ]
  },
  {
   "cell_type": "code",
   "execution_count": null,
   "id": "f435f820-c9c9-4136-bf10-a4e0b9c8d331",
   "metadata": {
    "vscode": {
     "languageId": "r"
    }
   },
   "outputs": [],
   "source": []
  },
  {
   "cell_type": "markdown",
   "id": "b6e1c6b2-cdd3-407b-bab0-fada461358a4",
   "metadata": {},
   "source": [
    "## References (?)"
   ]
  },
  {
   "cell_type": "code",
   "execution_count": null,
   "id": "84b387d7-9bab-4753-bbd8-a3a167d7be2f",
   "metadata": {
    "vscode": {
     "languageId": "r"
    }
   },
   "outputs": [],
   "source": []
  }
 ],
 "metadata": {
  "kernelspec": {
   "display_name": "R",
   "language": "R",
   "name": "ir"
  },
  "language_info": {
   "codemirror_mode": "r",
   "file_extension": ".r",
   "mimetype": "text/x-r-source",
   "name": "R",
   "pygments_lexer": "r",
   "version": "4.4.1"
  }
 },
 "nbformat": 4,
 "nbformat_minor": 5
}
