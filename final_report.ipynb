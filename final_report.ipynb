{
 "cells": [
  {
   "cell_type": "markdown",
   "id": "8d8e3d7b-defe-498c-9cd4-b9079a17cb34",
   "metadata": {},
   "source": [
    "# Final Project Report\n",
    "##### *Cynthia Wang, Luke Angelo Santiago, Tim Generalov, Sarah Porcheron*"
   ]
  },
  {
   "cell_type": "markdown",
   "id": "7e5be0f2-bdf8-4235-be22-66fdb4295a39",
   "metadata": {},
   "source": [
    "## Introduction"
   ]
  },
  {
   "cell_type": "code",
   "execution_count": null,
   "id": "a5bb0241-5035-4405-8878-51150fd82498",
   "metadata": {},
   "outputs": [],
   "source": []
  },
  {
   "cell_type": "markdown",
   "id": "6f38c80c-d827-4b50-9fe9-2859fb3e61d0",
   "metadata": {},
   "source": [
    "## Methods & Results"
   ]
  },
  {
   "cell_type": "code",
   "execution_count": null,
   "id": "a41e9462-c48f-4123-a67c-06703a9a5cd5",
   "metadata": {},
   "outputs": [],
   "source": []
  },
  {
   "cell_type": "markdown",
   "id": "25998020-6dd3-4a18-86b3-cbb9ec1883e1",
   "metadata": {},
   "source": [
    "## Discussion"
   ]
  },
  {
   "cell_type": "code",
   "execution_count": null,
   "id": "f435f820-c9c9-4136-bf10-a4e0b9c8d331",
   "metadata": {},
   "outputs": [],
   "source": []
  },
  {
   "cell_type": "markdown",
   "id": "b6e1c6b2-cdd3-407b-bab0-fada461358a4",
   "metadata": {},
   "source": [
    "## References (?)"
   ]
  },
  {
   "cell_type": "code",
   "execution_count": null,
   "id": "84b387d7-9bab-4753-bbd8-a3a167d7be2f",
   "metadata": {},
   "outputs": [],
   "source": []
  }
 ],
 "metadata": {
  "kernelspec": {
   "display_name": "Python 3 (ipykernel)",
   "language": "python",
   "name": "python3"
  },
  "language_info": {
   "codemirror_mode": {
    "name": "ipython",
    "version": 3
   },
   "file_extension": ".py",
   "mimetype": "text/x-python",
   "name": "python",
   "nbconvert_exporter": "python",
   "pygments_lexer": "ipython3",
   "version": "3.12.5"
  }
 },
 "nbformat": 4,
 "nbformat_minor": 5
}
